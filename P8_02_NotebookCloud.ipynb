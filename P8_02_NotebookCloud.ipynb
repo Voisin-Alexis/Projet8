{
 "cells": [
  {
   "cell_type": "code",
   "execution_count": 1,
   "metadata": {},
   "outputs": [
    {
     "name": "stderr",
     "output_type": "stream",
     "text": [
      "C:\\Users\\Alexis\\anaconda3\\lib\\site-packages\\requests\\__init__.py:89: RequestsDependencyWarning: urllib3 (1.26.7) or chardet (3.0.4) doesn't match a supported version!\n",
      "  warnings.warn(\"urllib3 ({}) or chardet ({}) doesn't match a supported \"\n"
     ]
    }
   ],
   "source": [
    "import pandas as pd\n",
    "import numpy as np\n",
    "from PIL import Image\n",
    "import PIL\n",
    "import io\n",
    "from io import StringIO \n",
    "import pyarrow\n",
    "\n",
    "import os\n",
    "#os.environ['TF_CPP_MIN_LOG_LEVEL'] = '2'\n",
    "import sys\n",
    "from pyspark import SparkContext, SparkConf\n",
    "from pyspark.rdd import RDD\n",
    "\n",
    "from pyspark.sql import SparkSession\n",
    "#from pyspark.sql.types import *\n",
    "\n",
    "from pyspark.sql.functions import udf, pandas_udf, PandasUDFType\n",
    "from pyspark.sql.types import StringType\n",
    "from pyspark.ml.feature import StringIndexer\n",
    "from pyspark.ml.classification import LogisticRegression\n",
    "from pyspark.ml.evaluation import MulticlassClassificationEvaluator\n",
    "from pyspark.ml.tuning import CrossValidator, ParamGridBuilder\n",
    "import urllib.request\n",
    "\n",
    "#!pip install findspark\n",
    "import findspark\n",
    "\n",
    "import pyspark\n",
    "pyspark.__version__\n",
    "\n",
    "import tensorflow as tf\n",
    "from tensorflow.keras.applications.mobilenet_v2 import MobileNetV2, preprocess_input\n",
    "from tensorflow.keras.applications.xception import Xception, preprocess_input\n",
    "from keras.preprocessing.image import load_img, img_to_array, ImageDataGenerator\n",
    "from keras.models import Model\n",
    "from keras.layers import Dense\n",
    "from tensorflow.keras.preprocessing import image_dataset_from_directory\n",
    "from tensorflow.keras import optimizers\n",
    "from keras.layers import Dense, GlobalMaxPooling2D, Flatten\n",
    "\n",
    "import sklearn.decomposition\n",
    "from pyspark.ml.linalg import Vectors, VectorUDT, DenseVector\n",
    "\n",
    "import json\n",
    "import boto.s3, boto.s3.key\n",
    "#!pip install boto3\n",
    "import boto3\n",
    "import pickle\n",
    "\n",
    "import time"
   ]
  },
  {
   "cell_type": "code",
   "execution_count": 2,
   "metadata": {},
   "outputs": [],
   "source": [
    "start_time = time.time()"
   ]
  },
  {
   "cell_type": "code",
   "execution_count": 3,
   "metadata": {},
   "outputs": [
    {
     "data": {
      "text/plain": [
       "'3.1.2'"
      ]
     },
     "execution_count": 3,
     "metadata": {},
     "output_type": "execute_result"
    }
   ],
   "source": [
    "pyspark.__version__"
   ]
  },
  {
   "cell_type": "code",
   "execution_count": 4,
   "metadata": {},
   "outputs": [],
   "source": [
    "findspark.init()"
   ]
  },
  {
   "cell_type": "markdown",
   "metadata": {},
   "source": [
    "Pour cette version Cloud nous allons reprendre en très grande partie ce qui a déjà été fait, nous modifierons l'accès aux données, maintenant nous récupérerons les données sur S3 et non plus sur la machine locale."
   ]
  },
  {
   "cell_type": "code",
   "execution_count": 5,
   "metadata": {},
   "outputs": [],
   "source": [
    "spark = SparkSession.builder.master(\"local[*]\").appName('Projet8_AWS').getOrCreate()"
   ]
  },
  {
   "cell_type": "code",
   "execution_count": 6,
   "metadata": {},
   "outputs": [
    {
     "data": {
      "text/html": [
       "\n",
       "            <div>\n",
       "                <p><b>SparkSession - in-memory</b></p>\n",
       "                \n",
       "        <div>\n",
       "            <p><b>SparkContext</b></p>\n",
       "\n",
       "            <p><a href=\"http://LAPTOP-19LUCQ2G:4040\">Spark UI</a></p>\n",
       "\n",
       "            <dl>\n",
       "              <dt>Version</dt>\n",
       "                <dd><code>v3.1.2</code></dd>\n",
       "              <dt>Master</dt>\n",
       "                <dd><code>local[*]</code></dd>\n",
       "              <dt>AppName</dt>\n",
       "                <dd><code>Projet8_AWS</code></dd>\n",
       "            </dl>\n",
       "        </div>\n",
       "        \n",
       "            </div>\n",
       "        "
      ],
      "text/plain": [
       "<pyspark.sql.session.SparkSession at 0x1cf611bd0a0>"
      ]
     },
     "execution_count": 6,
     "metadata": {},
     "output_type": "execute_result"
    }
   ],
   "source": [
    "spark"
   ]
  },
  {
   "cell_type": "markdown",
   "metadata": {},
   "source": [
    "Nous pouvons passer à la classification des images, dans un premier temps nous utiliserons SparkML et ensuite nous regarderons ce que nous obtiendrons avec un réseau déjà enraîné (comme VGG16):"
   ]
  },
  {
   "cell_type": "markdown",
   "metadata": {},
   "source": [
    "Dans un premier temps nous allons récupérer le chemin du dossier des images d'entraînement (les images étant déjà divisé en dossier d'entraînement et de test). Nous avons également 2 dossiers à notre disposition, un dossier contenant des images de taille quelconque et un dossier contenant des images à la taille 100x100, nous nous servirons de ces images pour SparkML, pour l'entrainement avec VGG16 nous utiliserons sans doute l'autre dossier puisqu'il faudra redimmensionner les images pour l'entrée du réseau.\n",
    "\n",
    "De même pour la suite nous n'utiliserons pas tous les dossiers, nous n'en utiliserons que 6, dont 3 dossiers de pomme afin de voir les résultats de la classification et de ne pas perdre trop de temps en calcul, notamment avec le réseau de neurones."
   ]
  },
  {
   "cell_type": "code",
   "execution_count": 7,
   "metadata": {
    "scrolled": true
   },
   "outputs": [
    {
     "name": "stdout",
     "output_type": "stream",
     "text": [
      "dataset_path = s3://imageprojet8oc/ImageAWS/\n"
     ]
    }
   ],
   "source": [
    "img_dir = 's3://imageprojet8oc/ImageAWS/'\n",
    "s3 = boto3.resource('s3')\n",
    "bucket = s3.Bucket(\"imageprojet8oc\")\n",
    "\n",
    "print('dataset_path =', img_dir)  "
   ]
  },
  {
   "cell_type": "markdown",
   "metadata": {},
   "source": [
    "Regardons les catégories a notre disposition:"
   ]
  },
  {
   "cell_type": "code",
   "execution_count": 8,
   "metadata": {},
   "outputs": [],
   "source": [
    "categorie = []"
   ]
  },
  {
   "cell_type": "code",
   "execution_count": 9,
   "metadata": {},
   "outputs": [
    {
     "name": "stdout",
     "output_type": "stream",
     "text": [
      "Nombre de catégorie:  4 \n",
      "\n",
      "Catégories à notre disposition: \n",
      "  -  Grape_Blue\n",
      "  -  Kaki\n",
      "  -  Lychee\n",
      "  -  Strawberry\n"
     ]
    }
   ],
   "source": [
    "for objet in bucket.objects.filter(Prefix=\"ImageAWS\"):\n",
    "    if objet.key.split('/')[1] not in categorie:\n",
    "        categorie.append(str(objet.key.split('/')[1]))\n",
    "    else:\n",
    "        continue\n",
    "        \n",
    "print('Nombre de catégorie: ', len(categorie), '\\n')\n",
    "print('Catégories à notre disposition: ')\n",
    "for i in range(len(categorie)):\n",
    "    print('  - ', categorie[i])"
   ]
  },
  {
   "cell_type": "markdown",
   "metadata": {},
   "source": [
    "Comme mentionné plus haut nous confronterons le machine learning à des catégories assez éloignées."
   ]
  },
  {
   "cell_type": "markdown",
   "metadata": {},
   "source": [
    "Essayons de voir à quoi ressemble les images:"
   ]
  },
  {
   "cell_type": "code",
   "execution_count": 10,
   "metadata": {},
   "outputs": [],
   "source": [
    "cred = boto3.Session().get_credentials()\n",
    "ACCESS_KEY = cred.access_key\n",
    "SECRET_KEY = cred.secret_key\n",
    "\n",
    "AWS_KEY = ACCESS_KEY\n",
    "SEC_KEY = SECRET_KEY"
   ]
  },
  {
   "cell_type": "code",
   "execution_count": 11,
   "metadata": {},
   "outputs": [],
   "source": [
    "session = boto3.session.Session(aws_access_key_id = AWS_KEY,\n",
    "                                aws_secret_access_key = SEC_KEY)\n",
    "s3_client = session.client(service_name = 's3', region_name = 'eu-west-3')\n",
    "\n",
    "response = s3_client.generate_presigned_url('get_object',\n",
    "                                            Params = {'Bucket': 'imageprojet8oc',\n",
    "                                                      'Key': \"ImageAWS/Kaki/12_100.jpg\"}\n",
    "                                           )\n",
    "resp = urllib.request.urlopen(response)\n",
    "img_show = Image.open(io.BytesIO(resp.read()))"
   ]
  },
  {
   "cell_type": "code",
   "execution_count": 12,
   "metadata": {},
   "outputs": [
    {
     "data": {
      "image/png": "[encoded data removed]",
      "text/plain": [
       "<PIL.JpegImagePlugin.JpegImageFile image mode=RGB size=100x100 at 0x1CF61D635E0>"
      ]
     },
     "execution_count": 12,
     "metadata": {},
     "output_type": "execute_result"
    }
   ],
   "source": [
    "img_show"
   ]
  },
  {
   "cell_type": "markdown",
   "metadata": {},
   "source": [
    "Pour la suite nous utiliserons le modèle MobileNetV2, je ne vais pas ici remontrer l'architecture de ce dernier puisque ça a déjà été fait.\n",
    "\n",
    "Comme pour la version avec le chargement des images locales, nous allons charger nos images au format binary:"
   ]
  },
  {
   "cell_type": "markdown",
   "metadata": {},
   "source": [
    "Afin de lire des fichiers binaires à partir d’Amazon S3 en utilisant le préfixe ci-dessous au chemin d’accès:\n",
    "\n",
    "    - s3:\\\\ = > Première génération\n",
    "    - s3n:\\\\ => deuxième génération\n",
    "    - s3a:\\\\ => Troisième génération\n",
    "    \n",
    "Dans notre cas nous sommes à la 3ème génération, donc nous préfixerons le chemin de nos images avec 's3a:\\\\\\\\' .\n",
    "\n",
    "Ainsi que des dépendances et des informations d’identification tierces, dans notre cas nous devrons charger les .jars suivant:\n",
    "\n",
    "    - org.apache.hadoop:hadoop-aws:3.2.0\n",
    "    - com.amazonaws:aws-java-sdk-core-1.12.134\n",
    "    - com.amazonaws:aws-java-sdk-dynamodb-1.12.134"
   ]
  },
  {
   "cell_type": "code",
   "execution_count": 13,
   "metadata": {},
   "outputs": [],
   "source": [
    "img_dirS3 = 's3a://imageprojet8oc/ImageAWS/*'"
   ]
  },
  {
   "cell_type": "code",
   "execution_count": 14,
   "metadata": {},
   "outputs": [],
   "source": [
    "sc = spark.sparkContext\n",
    "sc.setSystemProperty('com.amazonaws.services.s3.enableV4', 'true')\n",
    "sc._jsc.hadoopConfiguration().set('spark.jars.packages', 'org.apache.hadoop:hadoop-aws:3.2.0')\n",
    "#sc._jsc.hadoopConfiguration().set('spark.jars.packages', 'com.amazonaws:aws-java-sdk:1.12.117')\n",
    "#sc._jsc.hadoopConfiguration().set('spark.jars.packages', 'com.amazonaws:aws-java-sdk-s3-1.12.120')\n",
    "sc._jsc.hadoopConfiguration().set('spark.jars.packages', 'com.amazonaws:aws-java-sdk-core-1.12.134')\n",
    "sc._jsc.hadoopConfiguration().set('spark.jars.packages', 'com.amazonaws:aws-java-sdk-dynamodb-1.12.134')\n",
    "sc._jsc.hadoopConfiguration().set(\"fs.s3a.endpoint\", \"s3.eu-west-3.amazonaws.com\")\n",
    "sc._jsc.hadoopConfiguration().set(\"fs.s3a.access.key\", AWS_KEY)\n",
    "sc._jsc.hadoopConfiguration().set(\"fs.s3a.secret.key\", SEC_KEY)"
   ]
  },
  {
   "cell_type": "code",
   "execution_count": 15,
   "metadata": {},
   "outputs": [],
   "source": [
    "imagesALL_df = spark.read.format(\"binaryFile\") \\\n",
    "                    .option(\"pathGlobFilter\", \"*.jpg\") \\\n",
    "                    .option(\"recursiveFileLookup\", \"true\") \\\n",
    "                    .load(img_dirS3)"
   ]
  },
  {
   "cell_type": "code",
   "execution_count": 16,
   "metadata": {},
   "outputs": [
    {
     "name": "stdout",
     "output_type": "stream",
     "text": [
      "+--------------------+-------------------+------+--------------------+\n",
      "|                path|   modificationTime|length|             content|\n",
      "+--------------------+-------------------+------+--------------------+\n",
      "|s3a://imageprojet...|2022-01-16 23:06:32|  6307|[FF D8 FF E0 00 1...|\n",
      "|s3a://imageprojet...|2022-01-16 23:03:34|  6298|[FF D8 FF E0 00 1...|\n",
      "|s3a://imageprojet...|2022-01-16 23:06:20|  6295|[FF D8 FF E0 00 1...|\n",
      "|s3a://imageprojet...|2022-01-16 23:06:23|  6295|[FF D8 FF E0 00 1...|\n",
      "|s3a://imageprojet...|2022-01-16 23:06:13|  6290|[FF D8 FF E0 00 1...|\n",
      "+--------------------+-------------------+------+--------------------+\n",
      "only showing top 5 rows\n",
      "\n"
     ]
    }
   ],
   "source": [
    "imagesALL_df.show(5)"
   ]
  },
  {
   "cell_type": "code",
   "execution_count": 17,
   "metadata": {},
   "outputs": [
    {
     "name": "stdout",
     "output_type": "stream",
     "text": [
      "+------------------------------------------------+\n",
      "|path                                            |\n",
      "+------------------------------------------------+\n",
      "|s3a://imageprojet8oc/ImageAWS/Lychee/168_100.jpg|\n",
      "|s3a://imageprojet8oc/ImageAWS/Lychee/194_100.jpg|\n",
      "|s3a://imageprojet8oc/ImageAWS/Lychee/186_100.jpg|\n",
      "|s3a://imageprojet8oc/ImageAWS/Lychee/192_100.jpg|\n",
      "|s3a://imageprojet8oc/ImageAWS/Lychee/172_100.jpg|\n",
      "+------------------------------------------------+\n",
      "only showing top 5 rows\n",
      "\n"
     ]
    }
   ],
   "source": [
    "imagesALL_df.select('path').show(5, False)"
   ]
  },
  {
   "cell_type": "markdown",
   "metadata": {},
   "source": [
    "Nous allons maintenant chercher à récupérer les labels pour chaques images:"
   ]
  },
  {
   "cell_type": "code",
   "execution_count": 18,
   "metadata": {},
   "outputs": [],
   "source": [
    "from pyspark.sql.functions import split"
   ]
  },
  {
   "cell_type": "code",
   "execution_count": 19,
   "metadata": {},
   "outputs": [],
   "source": [
    "labelAll0 = imagesALL_df.withColumn(\"Label0\", split(imagesALL_df['path'], \"//\").getItem(1))"
   ]
  },
  {
   "cell_type": "code",
   "execution_count": 20,
   "metadata": {},
   "outputs": [
    {
     "name": "stdout",
     "output_type": "stream",
     "text": [
      "+------------------------------------------+\n",
      "|Label0                                    |\n",
      "+------------------------------------------+\n",
      "|imageprojet8oc/ImageAWS/Lychee/168_100.jpg|\n",
      "+------------------------------------------+\n",
      "only showing top 1 row\n",
      "\n"
     ]
    }
   ],
   "source": [
    "labelAll0.select('Label0').show(1, False)"
   ]
  },
  {
   "cell_type": "code",
   "execution_count": 21,
   "metadata": {},
   "outputs": [],
   "source": [
    "imagesALL_dfLabel = labelAll0.withColumn(\"Label\", split(labelAll0['Label0'], \"/\").getItem(2))"
   ]
  },
  {
   "cell_type": "code",
   "execution_count": 22,
   "metadata": {},
   "outputs": [],
   "source": [
    "imagesALL_dfLabel = imagesALL_dfLabel.select('path', 'content', 'Label')"
   ]
  },
  {
   "cell_type": "code",
   "execution_count": 23,
   "metadata": {
    "scrolled": true
   },
   "outputs": [
    {
     "name": "stdout",
     "output_type": "stream",
     "text": [
      "+--------------------+--------------------+------+\n",
      "|                path|             content| Label|\n",
      "+--------------------+--------------------+------+\n",
      "|s3a://imageprojet...|[FF D8 FF E0 00 1...|Lychee|\n",
      "+--------------------+--------------------+------+\n",
      "only showing top 1 row\n",
      "\n"
     ]
    }
   ],
   "source": [
    "imagesALL_dfLabel.show(1)"
   ]
  },
  {
   "cell_type": "code",
   "execution_count": 24,
   "metadata": {},
   "outputs": [
    {
     "name": "stdout",
     "output_type": "stream",
     "text": [
      "+----------+-----+\n",
      "|     Label|count|\n",
      "+----------+-----+\n",
      "|Grape_Blue|  245|\n",
      "|Strawberry|  245|\n",
      "|      Kaki|  245|\n",
      "|    Lychee|  245|\n",
      "+----------+-----+\n",
      "\n"
     ]
    }
   ],
   "source": [
    "imagesALL_dfLabel.groupBy(\"Label\").count().show()"
   ]
  },
  {
   "cell_type": "markdown",
   "metadata": {},
   "source": [
    "Récpérons maintenant l'index des différents Label:"
   ]
  },
  {
   "cell_type": "code",
   "execution_count": 25,
   "metadata": {},
   "outputs": [],
   "source": [
    "label_indexer = StringIndexer(inputCol=\"Label\", outputCol=\"Label_index\")\n",
    "label_indexer_transformer = label_indexer.fit(imagesALL_dfLabel)\n",
    "imagesALL_dfLabel = label_indexer_transformer.transform(imagesALL_dfLabel)"
   ]
  },
  {
   "cell_type": "code",
   "execution_count": 26,
   "metadata": {},
   "outputs": [
    {
     "name": "stdout",
     "output_type": "stream",
     "text": [
      "+--------------------+--------------------+------+-----------+\n",
      "|                path|             content| Label|Label_index|\n",
      "+--------------------+--------------------+------+-----------+\n",
      "|s3a://imageprojet...|[FF D8 FF E0 00 1...|Lychee|        2.0|\n",
      "+--------------------+--------------------+------+-----------+\n",
      "only showing top 1 row\n",
      "\n"
     ]
    }
   ],
   "source": [
    "imagesALL_dfLabel.show(1)"
   ]
  },
  {
   "cell_type": "markdown",
   "metadata": {},
   "source": [
    "Nous avons bien récupérer l'index des labels de nos images, passons à la suite.\n",
    "\n",
    "Commencons par prétraiter nos images, en les redimmensionnant. Ce redimmensionnement se fera à l'appel de l'image, nous aurions pu transformer nos images directement et les enregistrer dans un nouveau dossier, mais cela prendrait trop de temps et surtout si la base de données change il faudra retransformer ces images \"à la main\"."
   ]
  },
  {
   "cell_type": "code",
   "execution_count": 27,
   "metadata": {},
   "outputs": [],
   "source": [
    "def preprocess(content):\n",
    "    image = PIL.Image.open(io.BytesIO(content))\n",
    "    imageResize = image.resize([224, 224])\n",
    "    imageArray = img_to_array(imageResize)\n",
    "    preprocessingImage = preprocess_input(imageArray)\n",
    "    return preprocessingImage"
   ]
  },
  {
   "cell_type": "markdown",
   "metadata": {},
   "source": [
    "Nous utiliserons les poids de ImageNet, le modèle a déjà était entraîné sur des images de fruits, donc il n'y aurait pas d'intérêt à refaire un entraînement depuis le début."
   ]
  },
  {
   "cell_type": "code",
   "execution_count": 28,
   "metadata": {},
   "outputs": [],
   "source": [
    "def model_MobileNetV2():\n",
    "    model = MobileNetV2(include_top = False, input_shape=(224, 224, 3), weights = \"imagenet\", pooling = 'max')\n",
    "    return model"
   ]
  },
  {
   "cell_type": "markdown",
   "metadata": {},
   "source": [
    "Nous allons maintenant récupérer les features de chaques images:"
   ]
  },
  {
   "cell_type": "code",
   "execution_count": 29,
   "metadata": {},
   "outputs": [],
   "source": [
    "def featurize_series(model, content_series):\n",
    "    input = np.stack(content_series.map(preprocess))\n",
    "    preds = model.predict(input)\n",
    "    output = [p.flatten() for p in preds]\n",
    "    return pd.Series(output)"
   ]
  },
  {
   "cell_type": "code",
   "execution_count": 30,
   "metadata": {},
   "outputs": [
    {
     "name": "stderr",
     "output_type": "stream",
     "text": [
      "C:\\Spark\\spark-3.1.2-bin-hadoop3.2\\python\\pyspark\\sql\\pandas\\functions.py:389: UserWarning: In Python 3.6+ and Spark 3.0+, it is preferred to specify type hints for pandas UDF instead of specifying pandas UDF type which will be deprecated in the future releases. See SPARK-28264 for more details.\n",
      "  warnings.warn(\n"
     ]
    }
   ],
   "source": [
    "@pandas_udf('array<float>', PandasUDFType.SCALAR_ITER)\n",
    "def featurize_udf(content_series_iter):\n",
    "    model = model_MobileNetV2()\n",
    "    for content_series in content_series_iter:\n",
    "        yield featurize_series(model, content_series)"
   ]
  },
  {
   "cell_type": "code",
   "execution_count": 31,
   "metadata": {},
   "outputs": [],
   "source": [
    "features_df = imagesALL_dfLabel.select(\"path\", 'Label', 'Label_index', featurize_udf(\"content\"))"
   ]
  },
  {
   "cell_type": "markdown",
   "metadata": {},
   "source": [
    "Afin d'optimiser notre code nous allons enregistrer features_df en mémoire, ça nous permettra d'éviter de réaliser des actions deux fois (ici l'appel à featurize_udf):"
   ]
  },
  {
   "cell_type": "code",
   "execution_count": 32,
   "metadata": {},
   "outputs": [
    {
     "data": {
      "text/plain": [
       "DataFrame[path: string, Label: string, Label_index: double, featurize_udf(content): array<float>]"
      ]
     },
     "execution_count": 32,
     "metadata": {},
     "output_type": "execute_result"
    }
   ],
   "source": [
    "features_df.persist()"
   ]
  },
  {
   "cell_type": "code",
   "execution_count": 33,
   "metadata": {
    "scrolled": false
   },
   "outputs": [
    {
     "name": "stdout",
     "output_type": "stream",
     "text": [
      "+--------------------+------+-----------+----------------------+\n",
      "|                path| Label|Label_index|featurize_udf(content)|\n",
      "+--------------------+------+-----------+----------------------+\n",
      "|s3a://imageprojet...|Lychee|        2.0|  [5.899542, 6.0, 0...|\n",
      "+--------------------+------+-----------+----------------------+\n",
      "only showing top 1 row\n",
      "\n"
     ]
    }
   ],
   "source": [
    "features_df.show(1)"
   ]
  },
  {
   "cell_type": "code",
   "execution_count": 34,
   "metadata": {},
   "outputs": [],
   "source": [
    "features_df = features_df.withColumnRenamed(\"featurize_udf(content)\", \"Features\")"
   ]
  },
  {
   "cell_type": "code",
   "execution_count": 35,
   "metadata": {},
   "outputs": [
    {
     "name": "stdout",
     "output_type": "stream",
     "text": [
      "+--------------------+------+-----------+--------------------+\n",
      "|                path| Label|Label_index|            Features|\n",
      "+--------------------+------+-----------+--------------------+\n",
      "|s3a://imageprojet...|Lychee|        2.0|[5.899542, 6.0, 0...|\n",
      "+--------------------+------+-----------+--------------------+\n",
      "only showing top 1 row\n",
      "\n"
     ]
    }
   ],
   "source": [
    "features_df.show(1)"
   ]
  },
  {
   "cell_type": "markdown",
   "metadata": {},
   "source": [
    "Regardons le forme de nos données Features:"
   ]
  },
  {
   "cell_type": "code",
   "execution_count": 36,
   "metadata": {},
   "outputs": [],
   "source": [
    "featurefd = features_df.select('Features')"
   ]
  },
  {
   "cell_type": "code",
   "execution_count": 37,
   "metadata": {},
   "outputs": [],
   "source": [
    "featurefd_Panda = featurefd.toPandas()"
   ]
  },
  {
   "cell_type": "code",
   "execution_count": 38,
   "metadata": {},
   "outputs": [
    {
     "data": {
      "text/plain": [
       "1280"
      ]
     },
     "execution_count": 38,
     "metadata": {},
     "output_type": "execute_result"
    }
   ],
   "source": [
    "len(featurefd_Panda['Features'][0])"
   ]
  },
  {
   "cell_type": "markdown",
   "metadata": {},
   "source": [
    "Nous devons convertir nos features au format 'org.apache.spark.ml.linalg.VectorUDT' dans un premier temps, pour pouvoir utiliser l'ACP de Pyspark:"
   ]
  },
  {
   "cell_type": "code",
   "execution_count": 39,
   "metadata": {},
   "outputs": [],
   "source": [
    "from pyspark.ml.feature import PCA"
   ]
  },
  {
   "cell_type": "code",
   "execution_count": 40,
   "metadata": {},
   "outputs": [],
   "source": [
    "conversionVectorUDT = udf(lambda feature: Vectors.dense(feature), VectorUDT())"
   ]
  },
  {
   "cell_type": "code",
   "execution_count": 41,
   "metadata": {},
   "outputs": [],
   "source": [
    "features_df = features_df.withColumn(\"VectorUdt\", conversionVectorUDT('Features'))"
   ]
  },
  {
   "cell_type": "code",
   "execution_count": 42,
   "metadata": {},
   "outputs": [
    {
     "name": "stdout",
     "output_type": "stream",
     "text": [
      "+--------------------+------+-----------+--------------------+--------------------+\n",
      "|                path| Label|Label_index|            Features|           VectorUdt|\n",
      "+--------------------+------+-----------+--------------------+--------------------+\n",
      "|s3a://imageprojet...|Lychee|        2.0|[5.899542, 6.0, 0...|[5.89954185485839...|\n",
      "+--------------------+------+-----------+--------------------+--------------------+\n",
      "only showing top 1 row\n",
      "\n"
     ]
    }
   ],
   "source": [
    "features_df.show(1)"
   ]
  },
  {
   "cell_type": "code",
   "execution_count": 43,
   "metadata": {},
   "outputs": [],
   "source": [
    "acp_train, acp_test = features_df.randomSplit([0.7, 0.3], seed = 7)"
   ]
  },
  {
   "cell_type": "markdown",
   "metadata": {},
   "source": [
    "Pour la suite nous allons réduire la dimension de nos données, nous avons tracer la courbe d'inertie, nous avons dans un premier temps pris un nombre élevé pour k, nous avons pris k = 75, puis nous avons tracer la courbe, le code sera donné en commentaire mais ne sera pas utiliser ici, nous afficherons la courbe:"
   ]
  },
  {
   "cell_type": "code",
   "execution_count": 44,
   "metadata": {},
   "outputs": [],
   "source": [
    "#pca = PCA(k = 75, inputCol = 'VectorUdt', outputCol = 'X_acp')\n",
    "#model = pca.fit(acp_train)\n",
    "#acp_df = model.transform(acp_train)\n",
    "\n",
    "#nombreK = 0\n",
    "#somme = 0\n",
    "#listeI = []\n",
    "#listeSomme = []\n",
    "#for i in range(len(model.explainedVariance)):\n",
    "#    if somme < 0.75:\n",
    "#        somme = somme + model.explainedVariance[i]\n",
    "#        listeI.append(i)\n",
    "#        listeSomme.append(somme)\n",
    "#        nombreK += 1\n",
    "#\n",
    "#print(somme)\n",
    "#print(nombreK)\n",
    "\n",
    "#import matplotlib.pyplot as plt\n",
    "#plt.plot(listeI, listeSomme)\n",
    "#plt.show()"
   ]
  },
  {
   "attachments": {
    "graphe%20inertie.png": {
     "image/png": "[encoded data removed]"
    }
   },
   "cell_type": "markdown",
   "metadata": {},
   "source": [
    "![graphe%20inertie.png](attachment:graphe%20inertie.png)"
   ]
  },
  {
   "cell_type": "markdown",
   "metadata": {},
   "source": [
    "Pour la suite, à la vue de ce graphe nous prendrons donc k = 2, d'après la méthode du coude."
   ]
  },
  {
   "cell_type": "code",
   "execution_count": 45,
   "metadata": {},
   "outputs": [],
   "source": [
    "pca = PCA(k = 2, inputCol = 'VectorUdt', outputCol = 'X_acp')\n",
    "model = pca.fit(acp_train)\n",
    "acp_df = model.transform(acp_train)"
   ]
  },
  {
   "cell_type": "code",
   "execution_count": 46,
   "metadata": {},
   "outputs": [
    {
     "name": "stdout",
     "output_type": "stream",
     "text": [
      "+--------------------+------+-----------+--------------------+--------------------+--------------------+\n",
      "|                path| Label|Label_index|            Features|           VectorUdt|               X_acp|\n",
      "+--------------------+------+-----------+--------------------+--------------------+--------------------+\n",
      "|s3a://imageprojet...|Lychee|        2.0|[5.502656, 6.0, 0...|[5.50265598297119...|[-38.764044931983...|\n",
      "+--------------------+------+-----------+--------------------+--------------------+--------------------+\n",
      "only showing top 1 row\n",
      "\n"
     ]
    }
   ],
   "source": [
    "acp_df.show(1)"
   ]
  },
  {
   "cell_type": "markdown",
   "metadata": {},
   "source": [
    "Nous pouvons maintenant passer à la classification après un entraînement:"
   ]
  },
  {
   "cell_type": "code",
   "execution_count": 47,
   "metadata": {},
   "outputs": [],
   "source": [
    "lr = LogisticRegression(maxIter = 20, regParam = 0.05, elasticNetParam = 0.3, labelCol = \"Label_index\", featuresCol = 'X_acp')\n",
    "p_model = lr.fit(acp_df)"
   ]
  },
  {
   "cell_type": "code",
   "execution_count": 48,
   "metadata": {},
   "outputs": [],
   "source": [
    "acp_Train = model.transform(acp_train)\n",
    "predictions1 = p_model.transform(acp_Train)"
   ]
  },
  {
   "cell_type": "code",
   "execution_count": 49,
   "metadata": {
    "scrolled": true
   },
   "outputs": [
    {
     "name": "stdout",
     "output_type": "stream",
     "text": [
      "+------------------------------------------------+------+-----------+----------+\n",
      "|path                                            |Label |Label_index|prediction|\n",
      "+------------------------------------------------+------+-----------+----------+\n",
      "|s3a://imageprojet8oc/ImageAWS/Lychee/134_100.jpg|Lychee|2.0        |2.0       |\n",
      "|s3a://imageprojet8oc/ImageAWS/Lychee/137_100.jpg|Lychee|2.0        |2.0       |\n",
      "|s3a://imageprojet8oc/ImageAWS/Lychee/164_100.jpg|Lychee|2.0        |2.0       |\n",
      "|s3a://imageprojet8oc/ImageAWS/Lychee/167_100.jpg|Lychee|2.0        |2.0       |\n",
      "|s3a://imageprojet8oc/ImageAWS/Lychee/169_100.jpg|Lychee|2.0        |2.0       |\n",
      "|s3a://imageprojet8oc/ImageAWS/Lychee/171_100.jpg|Lychee|2.0        |2.0       |\n",
      "|s3a://imageprojet8oc/ImageAWS/Lychee/175_100.jpg|Lychee|2.0        |2.0       |\n",
      "|s3a://imageprojet8oc/ImageAWS/Lychee/177_100.jpg|Lychee|2.0        |2.0       |\n",
      "|s3a://imageprojet8oc/ImageAWS/Lychee/184_100.jpg|Lychee|2.0        |2.0       |\n",
      "|s3a://imageprojet8oc/ImageAWS/Lychee/187_100.jpg|Lychee|2.0        |2.0       |\n",
      "|s3a://imageprojet8oc/ImageAWS/Lychee/192_100.jpg|Lychee|2.0        |2.0       |\n",
      "|s3a://imageprojet8oc/ImageAWS/Lychee/193_100.jpg|Lychee|2.0        |2.0       |\n",
      "|s3a://imageprojet8oc/ImageAWS/Lychee/199_100.jpg|Lychee|2.0        |2.0       |\n",
      "|s3a://imageprojet8oc/ImageAWS/Lychee/204_100.jpg|Lychee|2.0        |2.0       |\n",
      "|s3a://imageprojet8oc/ImageAWS/Lychee/208_100.jpg|Lychee|2.0        |2.0       |\n",
      "|s3a://imageprojet8oc/ImageAWS/Lychee/213_100.jpg|Lychee|2.0        |2.0       |\n",
      "|s3a://imageprojet8oc/ImageAWS/Lychee/214_100.jpg|Lychee|2.0        |2.0       |\n",
      "|s3a://imageprojet8oc/ImageAWS/Lychee/140_100.jpg|Lychee|2.0        |2.0       |\n",
      "|s3a://imageprojet8oc/ImageAWS/Lychee/143_100.jpg|Lychee|2.0        |2.0       |\n",
      "|s3a://imageprojet8oc/ImageAWS/Lychee/146_100.jpg|Lychee|2.0        |2.0       |\n",
      "|s3a://imageprojet8oc/ImageAWS/Lychee/155_100.jpg|Lychee|2.0        |2.0       |\n",
      "|s3a://imageprojet8oc/ImageAWS/Lychee/174_100.jpg|Lychee|2.0        |2.0       |\n",
      "|s3a://imageprojet8oc/ImageAWS/Lychee/180_100.jpg|Lychee|2.0        |2.0       |\n",
      "|s3a://imageprojet8oc/ImageAWS/Lychee/181_100.jpg|Lychee|2.0        |2.0       |\n",
      "|s3a://imageprojet8oc/ImageAWS/Lychee/182_100.jpg|Lychee|2.0        |2.0       |\n",
      "|s3a://imageprojet8oc/ImageAWS/Lychee/185_100.jpg|Lychee|2.0        |2.0       |\n",
      "|s3a://imageprojet8oc/ImageAWS/Lychee/190_100.jpg|Lychee|2.0        |2.0       |\n",
      "|s3a://imageprojet8oc/ImageAWS/Lychee/191_100.jpg|Lychee|2.0        |2.0       |\n",
      "|s3a://imageprojet8oc/ImageAWS/Lychee/201_100.jpg|Lychee|2.0        |2.0       |\n",
      "|s3a://imageprojet8oc/ImageAWS/Lychee/202_100.jpg|Lychee|2.0        |2.0       |\n",
      "|s3a://imageprojet8oc/ImageAWS/Lychee/203_100.jpg|Lychee|2.0        |2.0       |\n",
      "|s3a://imageprojet8oc/ImageAWS/Lychee/205_100.jpg|Lychee|2.0        |2.0       |\n",
      "|s3a://imageprojet8oc/ImageAWS/Lychee/206_100.jpg|Lychee|2.0        |2.0       |\n",
      "|s3a://imageprojet8oc/ImageAWS/Lychee/207_100.jpg|Lychee|2.0        |2.0       |\n",
      "|s3a://imageprojet8oc/ImageAWS/Lychee/209_100.jpg|Lychee|2.0        |2.0       |\n",
      "|s3a://imageprojet8oc/ImageAWS/Lychee/215_100.jpg|Lychee|2.0        |2.0       |\n",
      "|s3a://imageprojet8oc/ImageAWS/Lychee/224_100.jpg|Lychee|2.0        |2.0       |\n",
      "|s3a://imageprojet8oc/ImageAWS/Lychee/239_100.jpg|Lychee|2.0        |2.0       |\n",
      "|s3a://imageprojet8oc/ImageAWS/Lychee/245_100.jpg|Lychee|2.0        |2.0       |\n",
      "|s3a://imageprojet8oc/ImageAWS/Lychee/246_100.jpg|Lychee|2.0        |2.0       |\n",
      "|s3a://imageprojet8oc/ImageAWS/Lychee/247_100.jpg|Lychee|2.0        |2.0       |\n",
      "|s3a://imageprojet8oc/ImageAWS/Lychee/129_100.jpg|Lychee|2.0        |2.0       |\n",
      "|s3a://imageprojet8oc/ImageAWS/Lychee/135_100.jpg|Lychee|2.0        |2.0       |\n",
      "|s3a://imageprojet8oc/ImageAWS/Lychee/136_100.jpg|Lychee|2.0        |2.0       |\n",
      "|s3a://imageprojet8oc/ImageAWS/Lychee/144_100.jpg|Lychee|2.0        |2.0       |\n",
      "+------------------------------------------------+------+-----------+----------+\n",
      "only showing top 45 rows\n",
      "\n"
     ]
    }
   ],
   "source": [
    "predictions1.select(\"path\", \"Label\", \"Label_index\", \"prediction\").show(45, False)"
   ]
  },
  {
   "cell_type": "code",
   "execution_count": 50,
   "metadata": {},
   "outputs": [],
   "source": [
    "evaluatorF1 = MulticlassClassificationEvaluator(labelCol = \"Label_index\", predictionCol = \"prediction\", metricName = \"f1\")"
   ]
  },
  {
   "cell_type": "code",
   "execution_count": 51,
   "metadata": {},
   "outputs": [
    {
     "name": "stdout",
     "output_type": "stream",
     "text": [
      "F1 =  1.0\n"
     ]
    }
   ],
   "source": [
    "print(\"F1 = \", evaluatorF1.evaluate(predictions1))"
   ]
  },
  {
   "cell_type": "code",
   "execution_count": 52,
   "metadata": {},
   "outputs": [],
   "source": [
    "evaluatorAccuracy = MulticlassClassificationEvaluator(labelCol = \"Label_index\", predictionCol = \"prediction\", metricName = \"accuracy\")"
   ]
  },
  {
   "cell_type": "code",
   "execution_count": 53,
   "metadata": {},
   "outputs": [
    {
     "name": "stdout",
     "output_type": "stream",
     "text": [
      "Accuracy =  1.0\n"
     ]
    }
   ],
   "source": [
    "print(\"Accuracy = \", evaluatorAccuracy.evaluate(predictions1))"
   ]
  },
  {
   "cell_type": "markdown",
   "metadata": {},
   "source": [
    "Regardons maintenant sur les donées de test:"
   ]
  },
  {
   "cell_type": "code",
   "execution_count": 54,
   "metadata": {},
   "outputs": [],
   "source": [
    "acp_Test = model.transform(acp_test)\n",
    "predictions = p_model.transform(acp_Test)"
   ]
  },
  {
   "cell_type": "code",
   "execution_count": 55,
   "metadata": {
    "scrolled": true
   },
   "outputs": [
    {
     "name": "stdout",
     "output_type": "stream",
     "text": [
      "+------------------------------------------------+------+-----------+----------+\n",
      "|path                                            |Label |Label_index|prediction|\n",
      "+------------------------------------------------+------+-----------+----------+\n",
      "|s3a://imageprojet8oc/ImageAWS/Lychee/138_100.jpg|Lychee|2.0        |2.0       |\n",
      "|s3a://imageprojet8oc/ImageAWS/Lychee/168_100.jpg|Lychee|2.0        |2.0       |\n",
      "|s3a://imageprojet8oc/ImageAWS/Lychee/170_100.jpg|Lychee|2.0        |2.0       |\n",
      "|s3a://imageprojet8oc/ImageAWS/Lychee/172_100.jpg|Lychee|2.0        |2.0       |\n",
      "|s3a://imageprojet8oc/ImageAWS/Lychee/173_100.jpg|Lychee|2.0        |2.0       |\n",
      "|s3a://imageprojet8oc/ImageAWS/Lychee/176_100.jpg|Lychee|2.0        |2.0       |\n",
      "|s3a://imageprojet8oc/ImageAWS/Lychee/183_100.jpg|Lychee|2.0        |2.0       |\n",
      "|s3a://imageprojet8oc/ImageAWS/Lychee/186_100.jpg|Lychee|2.0        |2.0       |\n",
      "|s3a://imageprojet8oc/ImageAWS/Lychee/188_100.jpg|Lychee|2.0        |2.0       |\n",
      "|s3a://imageprojet8oc/ImageAWS/Lychee/194_100.jpg|Lychee|2.0        |2.0       |\n",
      "|s3a://imageprojet8oc/ImageAWS/Lychee/195_100.jpg|Lychee|2.0        |2.0       |\n",
      "|s3a://imageprojet8oc/ImageAWS/Lychee/196_100.jpg|Lychee|2.0        |2.0       |\n",
      "|s3a://imageprojet8oc/ImageAWS/Lychee/197_100.jpg|Lychee|2.0        |2.0       |\n",
      "|s3a://imageprojet8oc/ImageAWS/Lychee/211_100.jpg|Lychee|2.0        |2.0       |\n",
      "|s3a://imageprojet8oc/ImageAWS/Lychee/212_100.jpg|Lychee|2.0        |2.0       |\n",
      "|s3a://imageprojet8oc/ImageAWS/Lychee/142_100.jpg|Lychee|2.0        |2.0       |\n",
      "|s3a://imageprojet8oc/ImageAWS/Lychee/147_100.jpg|Lychee|2.0        |2.0       |\n",
      "|s3a://imageprojet8oc/ImageAWS/Lychee/189_100.jpg|Lychee|2.0        |2.0       |\n",
      "|s3a://imageprojet8oc/ImageAWS/Lychee/200_100.jpg|Lychee|2.0        |2.0       |\n",
      "|s3a://imageprojet8oc/ImageAWS/Lychee/210_100.jpg|Lychee|2.0        |2.0       |\n",
      "|s3a://imageprojet8oc/ImageAWS/Lychee/230_100.jpg|Lychee|2.0        |2.0       |\n",
      "|s3a://imageprojet8oc/ImageAWS/Lychee/243_100.jpg|Lychee|2.0        |2.0       |\n",
      "|s3a://imageprojet8oc/ImageAWS/Lychee/248_100.jpg|Lychee|2.0        |2.0       |\n",
      "|s3a://imageprojet8oc/ImageAWS/Lychee/128_100.jpg|Lychee|2.0        |2.0       |\n",
      "|s3a://imageprojet8oc/ImageAWS/Lychee/139_100.jpg|Lychee|2.0        |2.0       |\n",
      "|s3a://imageprojet8oc/ImageAWS/Lychee/141_100.jpg|Lychee|2.0        |2.0       |\n",
      "|s3a://imageprojet8oc/ImageAWS/Lychee/145_100.jpg|Lychee|2.0        |2.0       |\n",
      "|s3a://imageprojet8oc/ImageAWS/Lychee/156_100.jpg|Lychee|2.0        |2.0       |\n",
      "|s3a://imageprojet8oc/ImageAWS/Lychee/157_100.jpg|Lychee|2.0        |2.0       |\n",
      "|s3a://imageprojet8oc/ImageAWS/Lychee/217_100.jpg|Lychee|2.0        |2.0       |\n",
      "|s3a://imageprojet8oc/ImageAWS/Lychee/232_100.jpg|Lychee|2.0        |2.0       |\n",
      "|s3a://imageprojet8oc/ImageAWS/Lychee/234_100.jpg|Lychee|2.0        |2.0       |\n",
      "|s3a://imageprojet8oc/ImageAWS/Lychee/238_100.jpg|Lychee|2.0        |2.0       |\n",
      "|s3a://imageprojet8oc/ImageAWS/Lychee/244_100.jpg|Lychee|2.0        |2.0       |\n",
      "|s3a://imageprojet8oc/ImageAWS/Lychee/254_100.jpg|Lychee|2.0        |2.0       |\n",
      "|s3a://imageprojet8oc/ImageAWS/Lychee/118_100.jpg|Lychee|2.0        |2.0       |\n",
      "|s3a://imageprojet8oc/ImageAWS/Lychee/126_100.jpg|Lychee|2.0        |2.0       |\n",
      "|s3a://imageprojet8oc/ImageAWS/Lychee/133_100.jpg|Lychee|2.0        |2.0       |\n",
      "|s3a://imageprojet8oc/ImageAWS/Lychee/149_100.jpg|Lychee|2.0        |2.0       |\n",
      "|s3a://imageprojet8oc/ImageAWS/Lychee/150_100.jpg|Lychee|2.0        |2.0       |\n",
      "|s3a://imageprojet8oc/ImageAWS/Lychee/152_100.jpg|Lychee|2.0        |2.0       |\n",
      "|s3a://imageprojet8oc/ImageAWS/Lychee/160_100.jpg|Lychee|2.0        |2.0       |\n",
      "|s3a://imageprojet8oc/ImageAWS/Lychee/166_100.jpg|Lychee|2.0        |2.0       |\n",
      "|s3a://imageprojet8oc/ImageAWS/Lychee/227_100.jpg|Lychee|2.0        |2.0       |\n",
      "|s3a://imageprojet8oc/ImageAWS/Lychee/252_100.jpg|Lychee|2.0        |2.0       |\n",
      "+------------------------------------------------+------+-----------+----------+\n",
      "only showing top 45 rows\n",
      "\n"
     ]
    }
   ],
   "source": [
    "predictions.select(\"path\", \"Label\", \"Label_index\", \"prediction\").show(45, False)"
   ]
  },
  {
   "cell_type": "markdown",
   "metadata": {},
   "source": [
    "Nous pouvons voir que des erreurs existe, ce qui n'est pas étonnant à la vue des classes que nous avons prises.\n",
    "\n",
    "Pour évaluer notre classification multi-classes, nous utiliserons un modèle qui évaluera les prédictions. Nous utiliserons MulticlassClassificationEvaluator avec les métriques F1 et Accuracy.\n",
    "\n",
    "F1 est une moyenne pondérée des scores de précision et de rappel qui sont:\n",
    "\n",
    "    - Précision : Correspond au nombre d'images correctement attribuées à la classe i par rapport au nombre total d'images       prédites comme appartenant à la classe i.\n",
    "    \n",
    "    - Rappel : Correspond au nombre d'images correctement attribuées à la classe i par rapport au nombre total d'images           appartenant à la classe i.   \n",
    "    \n",
    "La mesure F1 est à préférer si nos données sont déséquilibrées, ici ce ne sera pas le cas car nos classes ont un nombre d'images assez proche, comme nous allons voir, mais nous ne savons pas ce qu'il en sera demain et c'est pour cette raison nous évaluerons la précision et F1."
   ]
  },
  {
   "cell_type": "code",
   "execution_count": 56,
   "metadata": {},
   "outputs": [
    {
     "name": "stdout",
     "output_type": "stream",
     "text": [
      "+----------+-----+\n",
      "|     Label|count|\n",
      "+----------+-----+\n",
      "|Grape_Blue|   76|\n",
      "|Strawberry|   61|\n",
      "|      Kaki|   63|\n",
      "|    Lychee|   85|\n",
      "+----------+-----+\n",
      "\n"
     ]
    }
   ],
   "source": [
    "predictions.groupBy(\"Label\").count().show()"
   ]
  },
  {
   "cell_type": "markdown",
   "metadata": {},
   "source": [
    "Nous pouvons voir que la classe Mangoustan est assez déséquilibrée par rapport aux autres, la métrique F1 trouve son intérêt ici."
   ]
  },
  {
   "cell_type": "code",
   "execution_count": 57,
   "metadata": {},
   "outputs": [],
   "source": [
    "evaluatorF1 = MulticlassClassificationEvaluator(labelCol = \"Label_index\", predictionCol = \"prediction\", metricName = \"f1\")"
   ]
  },
  {
   "cell_type": "code",
   "execution_count": 58,
   "metadata": {},
   "outputs": [
    {
     "name": "stdout",
     "output_type": "stream",
     "text": [
      "F1 =  1.0\n"
     ]
    }
   ],
   "source": [
    "print(\"F1 = \", evaluatorF1.evaluate(predictions))"
   ]
  },
  {
   "cell_type": "code",
   "execution_count": 59,
   "metadata": {},
   "outputs": [],
   "source": [
    "evaluatorAccuracy = MulticlassClassificationEvaluator(labelCol = \"Label_index\", predictionCol = \"prediction\", metricName = \"accuracy\")"
   ]
  },
  {
   "cell_type": "code",
   "execution_count": 60,
   "metadata": {},
   "outputs": [
    {
     "name": "stdout",
     "output_type": "stream",
     "text": [
      "Accuracy =  1.0\n"
     ]
    }
   ],
   "source": [
    "print(\"Accuracy = \", evaluatorAccuracy.evaluate(predictions))"
   ]
  },
  {
   "cell_type": "markdown",
   "metadata": {},
   "source": [
    "Nous pouvons voir que nos résultats sont très bons puisque nos images sont parfaitement classées, ce qui est logique au final puisque les classes sont très différentes.\n",
    "\n",
    "Mais si d'aventure nous obtenions des résultats moyen, nous pourrions utiliser les fonctions ParamGridBuilder et CrossValidator, qui vont correspondre aux classes GridSearchCV et CrossValidation de python (en faisant un rapide raccourci).\n",
    "\n",
    "Nous nous focaliserions sur la métrique F1 pour les raisons évoquées plus haut."
   ]
  },
  {
   "cell_type": "code",
   "execution_count": 61,
   "metadata": {},
   "outputs": [],
   "source": [
    "#paramGrid = (ParamGridBuilder()\n",
    "#  .addGrid(lr.regParam, [0.01, 0.1, 0.5]) \\\n",
    "#  .addGrid(lr.maxIter, [10, 20, 50]) \\\n",
    "#  .addGrid(lr.elasticNetParam, [0.0, 0.8]) \\\n",
    "#  .build())"
   ]
  },
  {
   "cell_type": "code",
   "execution_count": 62,
   "metadata": {},
   "outputs": [],
   "source": [
    "#crossval = CrossValidator(estimator = lr,\n",
    "#                          estimatorParamMaps = paramGrid,\n",
    "#                          evaluator = evaluatorF1,\n",
    "#                          numFolds = 3)"
   ]
  },
  {
   "cell_type": "code",
   "execution_count": 63,
   "metadata": {},
   "outputs": [],
   "source": [
    "#modelOpt = crossval.fit(acp_train)"
   ]
  },
  {
   "cell_type": "code",
   "execution_count": 64,
   "metadata": {},
   "outputs": [],
   "source": [
    "#predictionsOpt = modelOpt.transform(acp_test)"
   ]
  },
  {
   "cell_type": "code",
   "execution_count": 65,
   "metadata": {},
   "outputs": [],
   "source": [
    "#print(\"F1 Opt = \", evaluatorF1.evaluate(predictionsOpt))"
   ]
  },
  {
   "cell_type": "markdown",
   "metadata": {},
   "source": [
    "Les 2 fonctions devraient opérer une amélioration, nous pourrions peut être l'améliorer encore un peu en choisissant plus de paramètre a tester. Si aucune amélioration n'est réalisé il faudrait réfléchir à utiliser un autre modèle, fournir plus d'image d'entraînement ou revoir votre méthode."
   ]
  },
  {
   "cell_type": "markdown",
   "metadata": {},
   "source": [
    "Nous allons convertir notre fichier au format Pandas afin que nous puissions l'utiliser aussi bien en pyspark qu'en python à l'avenir si besoin.\n",
    "\n",
    "Récupérons dans un premier temps l'adresse du dossier de résultat. Nous utiliserons une nouvelle fois 's3a://' pour accéder au dossier:"
   ]
  },
  {
   "cell_type": "code",
   "execution_count": 66,
   "metadata": {},
   "outputs": [],
   "source": [
    "resultat_dir = 's3a://imageprojet8oc/resultat/'"
   ]
  },
  {
   "cell_type": "code",
   "execution_count": 67,
   "metadata": {},
   "outputs": [],
   "source": [
    "resultattoPandas = predictions.toPandas()"
   ]
  },
  {
   "cell_type": "code",
   "execution_count": 68,
   "metadata": {},
   "outputs": [
    {
     "data": {
      "text/html": [
       "<div>\n",
       "<style scoped>\n",
       "    .dataframe tbody tr th:only-of-type {\n",
       "        vertical-align: middle;\n",
       "    }\n",
       "\n",
       "    .dataframe tbody tr th {\n",
       "        vertical-align: top;\n",
       "    }\n",
       "\n",
       "    .dataframe thead th {\n",
       "        text-align: right;\n",
       "    }\n",
       "</style>\n",
       "<table border=\"1\" class=\"dataframe\">\n",
       "  <thead>\n",
       "    <tr style=\"text-align: right;\">\n",
       "      <th></th>\n",
       "      <th>path</th>\n",
       "      <th>Label</th>\n",
       "      <th>Label_index</th>\n",
       "      <th>Features</th>\n",
       "      <th>VectorUdt</th>\n",
       "      <th>X_acp</th>\n",
       "      <th>rawPrediction</th>\n",
       "      <th>probability</th>\n",
       "      <th>prediction</th>\n",
       "    </tr>\n",
       "  </thead>\n",
       "  <tbody>\n",
       "    <tr>\n",
       "      <th>0</th>\n",
       "      <td>s3a://imageprojet8oc/ImageAWS/Lychee/138_100.jpg</td>\n",
       "      <td>Lychee</td>\n",
       "      <td>2.0</td>\n",
       "      <td>[6.0, 6.0, 0.0, 0.0, 0.0, 0.0, 1.2470893859863...</td>\n",
       "      <td>[6.0, 6.0, 0.0, 0.0, 0.0, 0.0, 1.2470893859863...</td>\n",
       "      <td>[-38.21556039642781, -2.9845226576518264]</td>\n",
       "      <td>[-0.5940715083834257, -2.0947826501635456, 1.9...</td>\n",
       "      <td>[0.057220457988209926, 0.012758533601474227, 0...</td>\n",
       "      <td>2.0</td>\n",
       "    </tr>\n",
       "    <tr>\n",
       "      <th>1</th>\n",
       "      <td>s3a://imageprojet8oc/ImageAWS/Lychee/168_100.jpg</td>\n",
       "      <td>Lychee</td>\n",
       "      <td>2.0</td>\n",
       "      <td>[5.899541854858398, 6.0, 0.0, 0.0, 0.005040168...</td>\n",
       "      <td>[5.899541854858398, 6.0, 0.0, 0.0, 0.005040168...</td>\n",
       "      <td>[-38.404451165085405, -4.8425670906523095]</td>\n",
       "      <td>[-0.5442814313648258, -2.1996719915121323, 2.0...</td>\n",
       "      <td>[0.05650213015354228, 0.010792892105981245, 0....</td>\n",
       "      <td>2.0</td>\n",
       "    </tr>\n",
       "    <tr>\n",
       "      <th>2</th>\n",
       "      <td>s3a://imageprojet8oc/ImageAWS/Lychee/170_100.jpg</td>\n",
       "      <td>Lychee</td>\n",
       "      <td>2.0</td>\n",
       "      <td>[4.7932586669921875, 6.0, 0.0, 0.0, 0.0, 2.465...</td>\n",
       "      <td>[4.7932586669921875, 6.0, 0.0, 0.0, 0.0, 2.465...</td>\n",
       "      <td>[-37.8919829556127, -4.104653537854926]</td>\n",
       "      <td>[-0.5482549938613935, -2.1478075003315404, 1.9...</td>\n",
       "      <td>[0.058314259054227456, 0.011778715572324726, 0...</td>\n",
       "      <td>2.0</td>\n",
       "    </tr>\n",
       "    <tr>\n",
       "      <th>3</th>\n",
       "      <td>s3a://imageprojet8oc/ImageAWS/Lychee/172_100.jpg</td>\n",
       "      <td>Lychee</td>\n",
       "      <td>2.0</td>\n",
       "      <td>[4.484482765197754, 6.0, 0.0, 0.0, 0.0, 0.7102...</td>\n",
       "      <td>[4.484482765197754, 6.0, 0.0, 0.0, 0.0, 0.7102...</td>\n",
       "      <td>[-38.102428854778296, -3.735262137494534]</td>\n",
       "      <td>[-0.5671110683435229, -2.1327420095989407, 1.9...</td>\n",
       "      <td>[0.05760185002735362, 0.012036259808208442, 0....</td>\n",
       "      <td>2.0</td>\n",
       "    </tr>\n",
       "    <tr>\n",
       "      <th>4</th>\n",
       "      <td>s3a://imageprojet8oc/ImageAWS/Lychee/173_100.jpg</td>\n",
       "      <td>Lychee</td>\n",
       "      <td>2.0</td>\n",
       "      <td>[4.615333557128906, 6.0, 0.0, 0.0, 0.0, 0.7182...</td>\n",
       "      <td>[4.615333557128906, 6.0, 0.0, 0.0, 0.0, 0.7182...</td>\n",
       "      <td>[-37.69734099271417, -5.361362452073927]</td>\n",
       "      <td>[-0.5029341223213685, -2.211227161362889, 2.02...</td>\n",
       "      <td>[0.05887957371640522, 0.010667494233172805, 0....</td>\n",
       "      <td>2.0</td>\n",
       "    </tr>\n",
       "  </tbody>\n",
       "</table>\n",
       "</div>"
      ],
      "text/plain": [
       "                                               path   Label  Label_index  \\\n",
       "0  s3a://imageprojet8oc/ImageAWS/Lychee/138_100.jpg  Lychee          2.0   \n",
       "1  s3a://imageprojet8oc/ImageAWS/Lychee/168_100.jpg  Lychee          2.0   \n",
       "2  s3a://imageprojet8oc/ImageAWS/Lychee/170_100.jpg  Lychee          2.0   \n",
       "3  s3a://imageprojet8oc/ImageAWS/Lychee/172_100.jpg  Lychee          2.0   \n",
       "4  s3a://imageprojet8oc/ImageAWS/Lychee/173_100.jpg  Lychee          2.0   \n",
       "\n",
       "                                            Features  \\\n",
       "0  [6.0, 6.0, 0.0, 0.0, 0.0, 0.0, 1.2470893859863...   \n",
       "1  [5.899541854858398, 6.0, 0.0, 0.0, 0.005040168...   \n",
       "2  [4.7932586669921875, 6.0, 0.0, 0.0, 0.0, 2.465...   \n",
       "3  [4.484482765197754, 6.0, 0.0, 0.0, 0.0, 0.7102...   \n",
       "4  [4.615333557128906, 6.0, 0.0, 0.0, 0.0, 0.7182...   \n",
       "\n",
       "                                           VectorUdt  \\\n",
       "0  [6.0, 6.0, 0.0, 0.0, 0.0, 0.0, 1.2470893859863...   \n",
       "1  [5.899541854858398, 6.0, 0.0, 0.0, 0.005040168...   \n",
       "2  [4.7932586669921875, 6.0, 0.0, 0.0, 0.0, 2.465...   \n",
       "3  [4.484482765197754, 6.0, 0.0, 0.0, 0.0, 0.7102...   \n",
       "4  [4.615333557128906, 6.0, 0.0, 0.0, 0.0, 0.7182...   \n",
       "\n",
       "                                        X_acp  \\\n",
       "0   [-38.21556039642781, -2.9845226576518264]   \n",
       "1  [-38.404451165085405, -4.8425670906523095]   \n",
       "2     [-37.8919829556127, -4.104653537854926]   \n",
       "3   [-38.102428854778296, -3.735262137494534]   \n",
       "4    [-37.69734099271417, -5.361362452073927]   \n",
       "\n",
       "                                       rawPrediction  \\\n",
       "0  [-0.5940715083834257, -2.0947826501635456, 1.9...   \n",
       "1  [-0.5442814313648258, -2.1996719915121323, 2.0...   \n",
       "2  [-0.5482549938613935, -2.1478075003315404, 1.9...   \n",
       "3  [-0.5671110683435229, -2.1327420095989407, 1.9...   \n",
       "4  [-0.5029341223213685, -2.211227161362889, 2.02...   \n",
       "\n",
       "                                         probability  prediction  \n",
       "0  [0.057220457988209926, 0.012758533601474227, 0...         2.0  \n",
       "1  [0.05650213015354228, 0.010792892105981245, 0....         2.0  \n",
       "2  [0.058314259054227456, 0.011778715572324726, 0...         2.0  \n",
       "3  [0.05760185002735362, 0.012036259808208442, 0....         2.0  \n",
       "4  [0.05887957371640522, 0.010667494233172805, 0....         2.0  "
      ]
     },
     "execution_count": 68,
     "metadata": {},
     "output_type": "execute_result"
    }
   ],
   "source": [
    "resultattoPandas.head()"
   ]
  },
  {
   "cell_type": "code",
   "execution_count": 69,
   "metadata": {},
   "outputs": [
    {
     "data": {
      "text/plain": [
       "{'ResponseMetadata': {'RequestId': '0CN07PGTH1GKPEFG',\n",
       "  'HostId': 'pqPNP+o1z9bNiveLcs5JZzN9rcI7fKNfJZhT9rXa2BTXmdu13WZxOvN0Ytl73EPQv9BYQYhZrq0=',\n",
       "  'HTTPStatusCode': 200,\n",
       "  'HTTPHeaders': {'x-amz-id-2': 'pqPNP+o1z9bNiveLcs5JZzN9rcI7fKNfJZhT9rXa2BTXmdu13WZxOvN0Ytl73EPQv9BYQYhZrq0=',\n",
       "   'x-amz-request-id': '0CN07PGTH1GKPEFG',\n",
       "   'date': 'Tue, 18 Jan 2022 21:10:27 GMT',\n",
       "   'etag': '\"1474b8e50b5a8d561d11bce90dda066a\"',\n",
       "   'server': 'AmazonS3',\n",
       "   'content-length': '0'},\n",
       "  'RetryAttempts': 0},\n",
       " 'ETag': '\"1474b8e50b5a8d561d11bce90dda066a\"'}"
      ]
     },
     "execution_count": 69,
     "metadata": {},
     "output_type": "execute_result"
    }
   ],
   "source": [
    "csv_buffer = StringIO()\n",
    "resultattoPandas.to_csv(csv_buffer)\n",
    "s3.Object('imageprojet8oc', 'resultat/resultat.csv').put(Body=csv_buffer.getvalue())"
   ]
  },
  {
   "cell_type": "markdown",
   "metadata": {},
   "source": [
    "Nous allons enregistrer le modèle et la fonction de prédiction lr, nous pourrons par la suite les récupérer directement et gagner un peu de temps:"
   ]
  },
  {
   "cell_type": "code",
   "execution_count": 70,
   "metadata": {},
   "outputs": [
    {
     "data": {
      "text/plain": [
       "{'ResponseMetadata': {'RequestId': 'DS08FJTTFWAX3CQ9',\n",
       "  'HostId': 'PsC98ZYfNmhhu7oG8vWY2v+mkIJAw4I+rAkP1rFlT0JPXXZf3jhwaWFh8vBpyX3nyv0LqlZrGM4=',\n",
       "  'HTTPStatusCode': 200,\n",
       "  'HTTPHeaders': {'x-amz-id-2': 'PsC98ZYfNmhhu7oG8vWY2v+mkIJAw4I+rAkP1rFlT0JPXXZf3jhwaWFh8vBpyX3nyv0LqlZrGM4=',\n",
       "   'x-amz-request-id': 'DS08FJTTFWAX3CQ9',\n",
       "   'date': 'Tue, 18 Jan 2022 21:10:31 GMT',\n",
       "   'etag': '\"58791f322c1bfc3de6141788d3b8666f\"',\n",
       "   'server': 'AmazonS3',\n",
       "   'content-length': '0'},\n",
       "  'RetryAttempts': 0},\n",
       " 'ETag': '\"58791f322c1bfc3de6141788d3b8666f\"'}"
      ]
     },
     "execution_count": 70,
     "metadata": {},
     "output_type": "execute_result"
    }
   ],
   "source": [
    "s3.Object('imageprojet8oc', 'resultat/model.pkl').put(Body = 'model')\n",
    "s3.Object('imageprojet8oc', 'resultat/classificationLR.pkl').put(Body = 'lr')"
   ]
  },
  {
   "cell_type": "markdown",
   "metadata": {},
   "source": [
    "## Validation"
   ]
  },
  {
   "cell_type": "markdown",
   "metadata": {},
   "source": [
    "Nous allons nous attaquer à la partie test, nous avons entraîné nos modèles avec des images à notre disposition, mais nous devons maintenant gérer les nouvelles images qui arriveront, pour cela nous ferons appel à ce que nous avons déjà vu, comme le preprocessing de l'image (modifier la taille de l'image notamment), récupérer les features de l'image et enfin la classifier.\n",
    "\n",
    "C'est ce que nous utiliserons si nous devions par la suite classer de nouvelles images."
   ]
  },
  {
   "cell_type": "markdown",
   "metadata": {},
   "source": [
    "Commencons par charger nos images de test:"
   ]
  },
  {
   "cell_type": "code",
   "execution_count": 71,
   "metadata": {},
   "outputs": [
    {
     "name": "stdout",
     "output_type": "stream",
     "text": [
      "dataset_path = s3://imageprojet8octest/ImageAWSTest/\n"
     ]
    }
   ],
   "source": [
    "img_dir = 's3://imageprojet8octest/ImageAWSTest/'\n",
    "s3 = boto3.resource('s3')\n",
    "bucket = s3.Bucket(\"imageprojet8oc\")\n",
    "#key = boto.s3.key.Key(bucket, \"words.txt\")\n",
    "\n",
    "print('dataset_path =', img_dir)  "
   ]
  },
  {
   "cell_type": "code",
   "execution_count": 72,
   "metadata": {},
   "outputs": [],
   "source": [
    "img_dirS3Test = 's3a://imageprojet8octest/ImageAWSTest/*'"
   ]
  },
  {
   "cell_type": "code",
   "execution_count": 73,
   "metadata": {},
   "outputs": [],
   "source": [
    "sc = spark.sparkContext\n",
    "sc.setSystemProperty('com.amazonaws.services.s3.enableV4', 'true')\n",
    "sc._jsc.hadoopConfiguration().set('spark.jars.packages', 'org.apache.hadoop:hadoop-aws:3.2.0')\n",
    "#sc._jsc.hadoopConfiguration().set('spark.jars.packages', 'com.amazonaws:aws-java-sdk:1.12.117')\n",
    "#sc._jsc.hadoopConfiguration().set('spark.jars.packages', 'com.amazonaws:aws-java-sdk-s3-1.12.120')\n",
    "sc._jsc.hadoopConfiguration().set('spark.jars.packages', 'com.amazonaws:aws-java-sdk-core-1.12.134')\n",
    "sc._jsc.hadoopConfiguration().set('spark.jars.packages', 'com.amazonaws:aws-java-sdk-dynamodb-1.12.134')\n",
    "sc._jsc.hadoopConfiguration().set(\"fs.s3a.endpoint\", \"s3.eu-west-3.amazonaws.com\")\n",
    "sc._jsc.hadoopConfiguration().set(\"fs.s3a.access.key\", AWS_KEY)\n",
    "sc._jsc.hadoopConfiguration().set(\"fs.s3a.secret.key\", SEC_KEY)"
   ]
  },
  {
   "cell_type": "code",
   "execution_count": 74,
   "metadata": {},
   "outputs": [],
   "source": [
    "imagesALL_dfTest = spark.read.format(\"binaryFile\") \\\n",
    "                    .option(\"pathGlobFilter\", \"*.jpg\") \\\n",
    "                    .option(\"recursiveFileLookup\", \"true\") \\\n",
    "                    .load(img_dirS3Test)"
   ]
  },
  {
   "cell_type": "code",
   "execution_count": 75,
   "metadata": {},
   "outputs": [
    {
     "name": "stdout",
     "output_type": "stream",
     "text": [
      "+--------------------+-------------------+------+--------------------+\n",
      "|                path|   modificationTime|length|             content|\n",
      "+--------------------+-------------------+------+--------------------+\n",
      "|s3a://imageprojet...|2022-01-12 20:41:16|  5889|[FF D8 FF E0 00 1...|\n",
      "+--------------------+-------------------+------+--------------------+\n",
      "only showing top 1 row\n",
      "\n"
     ]
    }
   ],
   "source": [
    "imagesALL_dfTest.show(1)"
   ]
  },
  {
   "cell_type": "code",
   "execution_count": 76,
   "metadata": {},
   "outputs": [],
   "source": [
    "labelAll0Test = imagesALL_dfTest.withColumn(\"Label0\", split(imagesALL_dfTest['path'], \"//\").getItem(1))\n",
    "imagesALL_dfLabelTest = labelAll0Test.withColumn(\"Label\", split(labelAll0Test['Label0'], \"/\").getItem(2))\n",
    "imagesALL_dfLabelTest = imagesALL_dfLabelTest.select('path', 'content', 'Label')"
   ]
  },
  {
   "cell_type": "code",
   "execution_count": 77,
   "metadata": {},
   "outputs": [
    {
     "name": "stdout",
     "output_type": "stream",
     "text": [
      "+--------------------+--------------------+------+\n",
      "|                path|             content| Label|\n",
      "+--------------------+--------------------+------+\n",
      "|s3a://imageprojet...|[FF D8 FF E0 00 1...|Lychee|\n",
      "+--------------------+--------------------+------+\n",
      "only showing top 1 row\n",
      "\n"
     ]
    }
   ],
   "source": [
    "imagesALL_dfLabelTest.show(1)"
   ]
  },
  {
   "cell_type": "code",
   "execution_count": 78,
   "metadata": {},
   "outputs": [],
   "source": [
    "label_indexerTest = StringIndexer(inputCol=\"Label\", outputCol=\"Label_index\")\n",
    "label_indexer_transformerTest = label_indexerTest.fit(imagesALL_dfLabelTest)\n",
    "imageTest_dfLabelTest = label_indexer_transformerTest.transform(imagesALL_dfLabelTest)"
   ]
  },
  {
   "cell_type": "code",
   "execution_count": 79,
   "metadata": {},
   "outputs": [
    {
     "name": "stdout",
     "output_type": "stream",
     "text": [
      "+--------------------+--------------------+------+-----------+\n",
      "|                path|             content| Label|Label_index|\n",
      "+--------------------+--------------------+------+-----------+\n",
      "|s3a://imageprojet...|[FF D8 FF E0 00 1...|Lychee|        2.0|\n",
      "+--------------------+--------------------+------+-----------+\n",
      "only showing top 1 row\n",
      "\n"
     ]
    }
   ],
   "source": [
    "imageTest_dfLabelTest.show(1)"
   ]
  },
  {
   "cell_type": "code",
   "execution_count": 80,
   "metadata": {},
   "outputs": [],
   "source": [
    "def preprocessTest(content):\n",
    "    image = PIL.Image.open(io.BytesIO(content))\n",
    "    imageResize = image.resize([224, 224])\n",
    "    imageArray = img_to_array(imageResize)\n",
    "    preprocessingImage = preprocess_input(imageArray)\n",
    "    return preprocessingImage"
   ]
  },
  {
   "cell_type": "code",
   "execution_count": 81,
   "metadata": {},
   "outputs": [],
   "source": [
    "def model_MobileNetV2():\n",
    "    model = MobileNetV2(include_top = False, input_shape=(224, 224, 3), weights = \"imagenet\", pooling = 'max')\n",
    "    return model"
   ]
  },
  {
   "cell_type": "code",
   "execution_count": 82,
   "metadata": {},
   "outputs": [],
   "source": [
    "def featurize_seriesX(model, content_series):\n",
    "    input = np.stack(content_series.map(preprocessTest))\n",
    "    preds = model.predict(input)\n",
    "    output = [p.flatten() for p in preds]\n",
    "    return pd.Series(output)"
   ]
  },
  {
   "cell_type": "code",
   "execution_count": 83,
   "metadata": {},
   "outputs": [
    {
     "name": "stderr",
     "output_type": "stream",
     "text": [
      "C:\\Spark\\spark-3.1.2-bin-hadoop3.2\\python\\pyspark\\sql\\pandas\\functions.py:389: UserWarning: In Python 3.6+ and Spark 3.0+, it is preferred to specify type hints for pandas UDF instead of specifying pandas UDF type which will be deprecated in the future releases. See SPARK-28264 for more details.\n",
      "  warnings.warn(\n"
     ]
    }
   ],
   "source": [
    "@pandas_udf('array<float>', PandasUDFType.SCALAR_ITER)\n",
    "def featurize_udfX(content_series_iter):\n",
    "    model = model_MobileNetV2()\n",
    "    for content_series in content_series_iter:\n",
    "        yield featurize_seriesX(model, content_series)"
   ]
  },
  {
   "cell_type": "code",
   "execution_count": 84,
   "metadata": {},
   "outputs": [],
   "source": [
    "features_dfTest = imageTest_dfLabelTest.select(\"path\", 'Label', 'Label_index', featurize_udfX(\"content\"))"
   ]
  },
  {
   "cell_type": "code",
   "execution_count": 85,
   "metadata": {},
   "outputs": [
    {
     "data": {
      "text/plain": [
       "DataFrame[path: string, Label: string, Label_index: double, featurize_udfX(content): array<float>]"
      ]
     },
     "execution_count": 85,
     "metadata": {},
     "output_type": "execute_result"
    }
   ],
   "source": [
    "features_dfTest.persist()"
   ]
  },
  {
   "cell_type": "code",
   "execution_count": 86,
   "metadata": {},
   "outputs": [],
   "source": [
    "features_dfTest = features_dfTest.withColumnRenamed(\"featurize_udfX(content)\", \"Features\")"
   ]
  },
  {
   "cell_type": "code",
   "execution_count": 87,
   "metadata": {},
   "outputs": [],
   "source": [
    "features_dfTest = features_dfTest.withColumn(\"VectorUdt\", conversionVectorUDT('Features'))"
   ]
  },
  {
   "cell_type": "code",
   "execution_count": 88,
   "metadata": {},
   "outputs": [
    {
     "name": "stdout",
     "output_type": "stream",
     "text": [
      "+--------------------+------+-----------+--------------------+--------------------+\n",
      "|                path| Label|Label_index|            Features|           VectorUdt|\n",
      "+--------------------+------+-----------+--------------------+--------------------+\n",
      "|s3a://imageprojet...|Lychee|        2.0|[6.0, 6.0, 1.7463...|[6.0,6.0,1.746314...|\n",
      "+--------------------+------+-----------+--------------------+--------------------+\n",
      "only showing top 1 row\n",
      "\n"
     ]
    }
   ],
   "source": [
    "features_dfTest.show(1)"
   ]
  },
  {
   "cell_type": "code",
   "execution_count": 89,
   "metadata": {},
   "outputs": [],
   "source": [
    "acp_dfTest = model.transform(features_dfTest)"
   ]
  },
  {
   "cell_type": "code",
   "execution_count": 90,
   "metadata": {},
   "outputs": [
    {
     "name": "stdout",
     "output_type": "stream",
     "text": [
      "+--------------------+------+-----------+--------------------+--------------------+--------------------+\n",
      "|                path| Label|Label_index|            Features|           VectorUdt|               X_acp|\n",
      "+--------------------+------+-----------+--------------------+--------------------+--------------------+\n",
      "|s3a://imageprojet...|Lychee|        2.0|[6.0, 6.0, 1.7463...|[6.0,6.0,1.746314...|[-35.893827514993...|\n",
      "+--------------------+------+-----------+--------------------+--------------------+--------------------+\n",
      "only showing top 1 row\n",
      "\n"
     ]
    }
   ],
   "source": [
    "acp_dfTest.show(1)"
   ]
  },
  {
   "cell_type": "code",
   "execution_count": 91,
   "metadata": {
    "scrolled": true
   },
   "outputs": [],
   "source": [
    "predictions = p_model.transform(acp_dfTest)"
   ]
  },
  {
   "cell_type": "code",
   "execution_count": 92,
   "metadata": {},
   "outputs": [
    {
     "name": "stdout",
     "output_type": "stream",
     "text": [
      "Total time in seconds: 975.4612152576447\n"
     ]
    }
   ],
   "source": [
    "interval = time.time() - start_time\n",
    "print('Total time in seconds:', interval)"
   ]
  }
 ],
 "metadata": {
  "kernelspec": {
   "display_name": "Python 3",
   "language": "python",
   "name": "python3"
  },
  "language_info": {
   "codemirror_mode": {
    "name": "ipython",
    "version": 3
   },
   "file_extension": ".py",
   "mimetype": "text/x-python",
   "name": "python",
   "nbconvert_exporter": "python",
   "pygments_lexer": "ipython3",
   "version": "3.8.5"
  }
 },
 "nbformat": 4,
 "nbformat_minor": 4
}
